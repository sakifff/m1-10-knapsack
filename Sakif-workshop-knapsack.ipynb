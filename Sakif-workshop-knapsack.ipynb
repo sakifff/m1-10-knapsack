{
 "cells": [
  {
   "cell_type": "markdown",
   "metadata": {},
   "source": [
    "## Knapsack Problem\n",
    "\n",
    "The *knapsack problem*:  given a set of integers $S = \\{s_1, s_2, \\ldots, s_n\\}$ and a target number $T$, find a subset (i.e., knapsack) of $S$ which adds up exactly to $T$.  \n",
    "\n",
    "For example, if $S = \\{1,2,5, 9, 10\\}$, there is a subset that adds up to $T = 22$, but not to $T = 23$.  Complete the following tasks related to this problem."
   ]
  },
  {
   "cell_type": "markdown",
   "metadata": {},
   "source": [
    "# 1. \n",
    "\n",
    "Find a subset of $S = \\{1,2,5, 9, 10\\}$ with sum $T = 22$.  Explain the process (algorithm) you used mentally to find the subset.  Then apply the same process in an attempt to find a subset with sum $T = 23$.  \n",
    "\n",
    "How do you know there is no such subset?"
   ]
  },
  {
   "cell_type": "markdown",
   "metadata": {},
   "source": [
    "- Start by summing the biggest numbers (greedy algorithm) in the set (e.g 9 and 10 for the example set)\n",
    "    - And then just find the remaining numbers needed to add up to 22 (2 and 1 for this set)\n",
    "   \n",
    "- I know there is no subset where T = 23 because if I apply the same process as described above, I will quickly see that out of the remaining numbers in the set there are no numbers left that can be used to sum up to 23."
   ]
  },
  {
   "cell_type": "markdown",
   "metadata": {
    "collapsed": true
   },
   "source": [
    "# 2.\n",
    "\n",
    "Consider the following possible algorithm for the knapsack problem, written in psuedocode: \n",
    "```python\n",
    "knapsack(S[], T):\n",
    "    K = empty\n",
    "    for each i < size(S)\n",
    "        if sum(K) + S[i] <= T, put S[i] into K\n",
    "    if sum(K) = T, return K, else return False.\n",
    "```\n",
    "**a)** Describe what this algorithm does in English.  \n",
    "\n",
    "**b)** Implement this algorithm in Python and run it on the $S$ and $T$ above.\n",
    "\n",
    "\n",
    "**c)** Prove that this algorithm is NOT correct.  That is, find a counterexample: a set $S$ and number $T$ for which there is a solution, but not one that the algorithm finds.\n",
    "\n",
    "**d)** Verify that this particular $S$ and $T$ does not give the right output when entered to your Python program."
   ]
  },
  {
   "cell_type": "markdown",
   "metadata": {},
   "source": [
    "2) a) \n",
    "      - Define a function knapsack that takes in a list S and an integer T\n",
    "      - Create an empty list K\n",
    "      - Iterate through each element within the length of list S\n",
    "          - If the sum of variable K added to S[i] is greater than T, append S[i] into K\n",
    "      - if the sum of K equals T, return K otherwise return False"
   ]
  },
  {
   "cell_type": "code",
   "execution_count": 2,
   "metadata": {
    "scrolled": true
   },
   "outputs": [
    {
     "name": "stdout",
     "output_type": "stream",
     "text": [
      "False\n",
      "False\n"
     ]
    }
   ],
   "source": [
    "#2) b)\n",
    "\n",
    "def knapsack(S, T):\n",
    "    K = []\n",
    "    for i in range(len(S)):\n",
    "        if sum(K) + S[i] <= T:\n",
    "            K.append(S[i])\n",
    "    if sum(K) == T:\n",
    "        return K\n",
    "    else:\n",
    "        return False\n",
    "    \n",
    "print(knapsack([1,2,5,9,10], 22))\n",
    "\n",
    "print(knapsack([1,4,6,7,12], 22)) #2) d) verify that this particular 𝑆 and 𝑇 does not give the right output \n"
   ]
  },
  {
   "cell_type": "markdown",
   "metadata": {},
   "source": [
    "2) c) When S = {1,4,6,7,12} and T = 22, there should be a solution as 4 + 6 + 12 = 22.\n",
    "\n",
    "\n",
    "2) d) shown above"
   ]
  },
  {
   "cell_type": "markdown",
   "metadata": {},
   "source": [
    "# 3. \n",
    "\n",
    "Another try: What if you put the elements in the knapsack from largest to smallest?  Check that this too is not a correct algorithm."
   ]
  },
  {
   "cell_type": "code",
   "execution_count": 4,
   "metadata": {},
   "outputs": [
    {
     "name": "stdout",
     "output_type": "stream",
     "text": [
      "[10, 9, 2, 1]\n",
      "False\n"
     ]
    }
   ],
   "source": [
    "print(knapsack([10,9,5,2,1], 22))\n",
    "print(knapsack([12,7,6,4,1], 22))\n",
    "\n"
   ]
  },
  {
   "cell_type": "markdown",
   "metadata": {},
   "source": [
    "# 4.\n",
    "\n",
    "Describe a correct algorithm for the knapsack problem (that we haven't seen in class), both in English and in pseudocode.  Then implement the algorithm in Python.  Explain how you know your algorithm is correct (even if it might not be efficient)."
   ]
  },
  {
   "cell_type": "markdown",
   "metadata": {},
   "source": [
    "**Describe a correct algorithm for the knapsack problem (that we haven't seen in class), both in English and in pseudocode.**\n",
    "\n",
    "\n",
    "In English:\n",
    "    \n",
    "    - Import combinations from itertools\n",
    "    - Define function that takes in a list S and a target sum T, then initialize two empty arrays arr1 and arr2\n",
    "    - iterate over the length of S and get every single combination possible in the list (combinations of 1 element,\n",
    "      2 elements, 3 elements ... n elements if the list has n elements)\n",
    "        - Then add all those combinations to arr1.\n",
    "    - Then iterate over all elements in arr1 and if the sum of any combinations is equal to the target sum T, \n",
    "      add it to arr2\n",
    "    - Then return the maximum element of arr2 - which should be the most efficient combination\n",
    "    \n",
    "    \n",
    "Pseudocode:\n",
    "\n",
    "knapsack(S[], T):\n",
    "\n",
    "    arr1 = [empty]\n",
    "\n",
    "    arr2 = [empty]\n",
    "    \n",
    "    for each i in size(S)\n",
    "    \n",
    "        put combinations(S, i) into arr1\n",
    "    \n",
    "    for each j in arr1\n",
    "        \n",
    "        if sum(j) = T, put j into arr2\n",
    "        \n",
    "    return the maximum value of arr2\n",
    "    \n",
    "    \n",
    "This algorithm should work because unlike the previous one, this one takes into account of different combinations whereas the previous algorithm just went from left to right trying to find the target sum T without skipping a single element in the list."
   ]
  },
  {
   "cell_type": "code",
   "execution_count": 18,
   "metadata": {},
   "outputs": [
    {
     "name": "stdout",
     "output_type": "stream",
     "text": [
      "(1, 2, 9, 10)\n",
      "(10, 2, 10)\n"
     ]
    }
   ],
   "source": [
    "from itertools import combinations\n",
    "\n",
    "def knapsack(S, T):\n",
    "    arr = []\n",
    "    combination_list = []\n",
    "    for i in range(len(S)):\n",
    "        arr += list(combinations(S, i))\n",
    "    for j in arr:\n",
    "        if sum(j) == T:\n",
    "            combination_list.append(j)\n",
    "    \n",
    "            \n",
    "    return max(combination_list)\n",
    "\n",
    "print(knapsack([1,2,5,9,10], 22))\n",
    "print(knapsack([1,2,5,9,10,1,2,5,9,10], 22))"
   ]
  },
  {
   "cell_type": "markdown",
   "metadata": {
    "collapsed": true
   },
   "source": [
    "# 5. Generating correct change\n",
    "\n",
    "Now, we will be making change using the fewest coins. \n",
    "\n",
    "Suppose you are a programmer for a vending machine manufacturer. Your company wants to streamline effort by giving out the fewest possible coins in change for each transaction. Suppose a customer puts in a dollar bill and purchases an item for 37 cents. What is the smallest number of coins you can use to make change? The answer is six coins: two quarters, one dime, and three pennies. \n",
    "\n",
    "How did we arrive at the answer of six coins? We start with the largest coin in our arsenal (a quarter) and use as many of those as possible, then we go to the next lowest coin value and use as many of those as possible. This is the greedy algorithm for change-making.\n",
    "\n",
    "**Question:** Write the greedy algorithm for change making.\n",
    "\n",
    "The input is the amount of change to generate (in pennies) and a list of coin sizes (in pennies)\n",
    "\n",
    "The output is the minimum number of coins to gener\n",
    "\n",
    "```\n",
    "# buys with 1 dollar for 37 pennies\n",
    "# Second argument says we can give quarters, dimes, nickels and pennies\n",
    "make_change(100 - 37, [25, 10, 5, 1])\n",
    "\n",
    "# 2 quarters, one dime, and three pennies\n",
    "output --> 6 # Output would be equivalent to the choices [2, 1, 0, 3]\n",
    "```"
   ]
  },
  {
   "cell_type": "code",
   "execution_count": 6,
   "metadata": {},
   "outputs": [
    {
     "name": "stdout",
     "output_type": "stream",
     "text": [
      "6\n",
      "6\n",
      "6\n",
      "13\n",
      "5\n",
      "3\n",
      "18\n"
     ]
    }
   ],
   "source": [
    "def make_change(X, coins):\n",
    "    '''\n",
    "    - create a coin counter variable\n",
    "    - and make sure input list coins is sorted(reverse=True) otherwise the math doesn't work\n",
    "    - for each coin in size(coins):\n",
    "        - X // coins[coin] will give the number of coins needed for that specific coin\n",
    "        - X % coins[coin] will give the remainder X\n",
    "    - add to counter and set X = b as X has to be reduced each time\n",
    "    - return coin counter\n",
    "    '''\n",
    "    number_of_coins = 0\n",
    "    coins.sort(reverse=True)\n",
    "\n",
    "    for coin in range(len(coins)):\n",
    "        a = X // coins[coin]\n",
    "        b = X % coins[coin]\n",
    "        number_of_coins += a\n",
    "        X = b\n",
    "           \n",
    "    return number_of_coins\n",
    "\n",
    "print(make_change(100 - 37, [25, 10, 5, 1]))\n",
    "print(make_change(100 - 37, [5, 25, 10, 1]))\n",
    "print(make_change(100 - 37, [12, 4, 6, 2]))\n",
    "print(make_change(100 - 37, [1,2,3,4,5]))\n",
    "print(make_change(47, [5, 25, 10, 1]))\n",
    "print(make_change(22, [12, 4, 6, 2]))\n",
    "print(make_change(89, [1,2,3,4,5]))"
   ]
  },
  {
   "cell_type": "markdown",
   "metadata": {},
   "source": [
    "# 6 Recursive change\n",
    "\n",
    "Write the greedy change making algorithm using recursion"
   ]
  },
  {
   "cell_type": "code",
   "execution_count": 1,
   "metadata": {},
   "outputs": [
    {
     "name": "stdout",
     "output_type": "stream",
     "text": [
      "6\n",
      "6\n",
      "inf\n",
      "13\n",
      "5\n",
      "3\n",
      "18\n"
     ]
    }
   ],
   "source": [
    "def recursive_make_change(X, coins):\n",
    "    \n",
    "    def min_coins(Y, coins2):\n",
    "        if coins2 == 0:\n",
    "            return 0\n",
    "        elif Y == -1 or coins2 < 0:\n",
    "            return float('inf') #https://stackoverflow.com/questions/34264710/what-is-the-point-of-floatinf-in-python (this helped with float inf)\n",
    "        else:\n",
    "            return min(min_coins(Y-1, coins2), 1 + min_coins(Y, coins2 - coins[Y]))\n",
    "    \n",
    "    return min_coins(len(coins) - 1, X)\n",
    "\n",
    "print(recursive_make_change(100 - 37, [25, 10, 5, 1]))\n",
    "print(recursive_make_change(100 - 37, [5, 25, 10, 1]))\n",
    "print(recursive_make_change(100 - 37, [12, 4, 6, 2])) #different result compared to greedy solution\n",
    "print(recursive_make_change(100 - 37, [1,2,3,4,5]))\n",
    "print(recursive_make_change(47, [5, 25, 10, 1]))\n",
    "print(recursive_make_change(22, [12, 4, 6, 2]))\n",
    "print(recursive_make_change(89, [1,2,3,4,5]))"
   ]
  },
  {
   "cell_type": "markdown",
   "metadata": {},
   "source": [
    "# 7 Dynamic Programming Change making\n",
    "\n",
    "Write a solution to the change making problem using dynamic programming.\n",
    "\n",
    "**Hint:** Start with making change for one cent and systematically work its way up to the amount of change we require. This guarantees us that at each step of the algorithm we already know the minimum number of coins needed to make change for any smaller amount. Keep a memoized table of results for each step working up to the amount of change you need to generate."
   ]
  },
  {
   "cell_type": "code",
   "execution_count": null,
   "metadata": {},
   "outputs": [],
   "source": [
    "#is this stretch?"
   ]
  }
 ],
 "metadata": {
  "kernelspec": {
   "display_name": "Python 3",
   "language": "python",
   "name": "python3"
  },
  "language_info": {
   "codemirror_mode": {
    "name": "ipython",
    "version": 3
   },
   "file_extension": ".py",
   "mimetype": "text/x-python",
   "name": "python",
   "nbconvert_exporter": "python",
   "pygments_lexer": "ipython3",
   "version": "3.8.3"
  }
 },
 "nbformat": 4,
 "nbformat_minor": 1
}
